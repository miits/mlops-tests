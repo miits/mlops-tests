{
 "cells": [
  {
   "cell_type": "markdown",
   "id": "5485fc26",
   "metadata": {},
   "source": [
    "# Scenariusz alpha testów aplikacji [MLOps](https://github.com/mlops-ai/mlops)\n",
    "\n",
    "**Witaj użytkowniku!** Na wstępie serdecznie dziękujemy za chęć udziału w alpha testach, a co za tym idzie wsparciu naszej aplikacji. <br><br>\n",
    "W poniższych komórkach znajdziesz polecenia, które należy wykonać. Po każdym poleceniu jest pusta komórka na (jeśli jest taka potrzeba) kod po stronie biblioteki oraz kolejna komórka na komentarz odnośnie tego jak oceniasz łatwość wykonania polecenia, ewentualne uwagi oraz wskazówki. :) "
   ]
  },
  {
   "cell_type": "markdown",
   "id": "372e13e1",
   "metadata": {},
   "source": [
    "## 0. Setup środowiska"
   ]
  },
  {
   "cell_type": "markdown",
   "id": "1d080544",
   "metadata": {},
   "source": [
    "### 0.1 Instalacja aplikacji oraz bilbioteki\n",
    "\n",
    "Aby uruchomić aplikację lokalnie, pobierz nasze repepozytorium z [GitHuba](https://github.com/mlops-ai/mlops), a następnie w celu instalacji postępuj zgodnie z krokami wymienionymi w sekcji [Installation & usage](https://github.com/mlops-ai/mlops#installation--usage).\n",
    "\n",
    "### <font color='red'>UWAGA! </font> \n",
    "Upewnij się, że włącznie z biblioteką zainstalowały Ci się wersje bibliotek `scikit-learn==1.3.0` oraz `torch==2.1.1`. Jest to kluczowe w kontekście monitorowanych modeli, aby zachować te same wersje między biliboteką, a serwerem aplikacji."
   ]
  },
  {
   "cell_type": "code",
   "execution_count": 1,
   "id": "6079e86e",
   "metadata": {
    "ExecuteTime": {
     "end_time": "2023-11-26T13:57:37.618866Z",
     "start_time": "2023-11-26T13:57:37.608584Z"
    }
   },
   "outputs": [],
   "source": [
    "# pip install mlops-ai"
   ]
  },
  {
   "cell_type": "code",
   "execution_count": 210,
   "id": "116566e2",
   "metadata": {
    "ExecuteTime": {
     "end_time": "2023-11-26T13:57:41.067792Z",
     "start_time": "2023-11-26T13:57:41.049195Z"
    }
   },
   "outputs": [],
   "source": [
    "# pip show mlops-ai"
   ]
  },
  {
   "cell_type": "code",
   "execution_count": 16,
   "id": "c7de0942-3eb5-4e25-984a-3875b6850480",
   "metadata": {},
   "outputs": [],
   "source": [
    "# !pipenv install json2html"
   ]
  },
  {
   "cell_type": "markdown",
   "id": "ac378f72",
   "metadata": {
    "jp-MarkdownHeadingCollapsed": true
   },
   "source": [
    "### 0.2 Dokumentacja\n",
    "\n",
    "Szczegółową dokumentacje biblioteki aplikacji możesz znaleźć **TODO: LINK**. Jeśli jednak tak jak my, nie jesteś fanem czytania szczegółowej dokumentacji, przygotowaliśmy także przykładowe notebooki prezentujące kluczowe funkcjonalności aplikacji, które możesz znaleźć wewnątrz folderu `library/tests/notebooks`"
   ]
  },
  {
   "cell_type": "markdown",
   "id": "d9a9adb7",
   "metadata": {},
   "source": [
    "## 1. Moduł tworzenia"
   ]
  },
  {
   "cell_type": "markdown",
   "id": "9e4f01ae",
   "metadata": {},
   "source": [
    "### 1.1 Tworzenie projektu po stronie biblioteki\n",
    "\n",
    "Utwórz pusty projekt wykorzystując odpowiednie funkcje po stronie biblioteki"
   ]
  },
  {
   "cell_type": "code",
   "execution_count": 4,
   "id": "a4cf02b3",
   "metadata": {
    "pycharm": {
     "is_executing": true
    }
   },
   "outputs": [],
   "source": [
    "from mlops.tracking import create_project"
   ]
  },
  {
   "cell_type": "code",
   "execution_count": 6,
   "id": "b51a999a-8d65-44cb-9c44-049e892d0da9",
   "metadata": {},
   "outputs": [],
   "source": [
    "project = create_project(\"My First MLOps Project\")"
   ]
  },
  {
   "cell_type": "code",
   "execution_count": 9,
   "id": "f2e9985f-2493-400d-a1c8-73fbc2aa5964",
   "metadata": {},
   "outputs": [
    {
     "data": {
      "text/plain": [
       "{'_id': '657b13c2d660d369e83e6acc',\n",
       " 'title': 'My First MLOps Project',\n",
       " 'description': None,\n",
       " 'status': 'not_started',\n",
       " 'archived': False,\n",
       " 'created_at': '2023-12-14T15:40:02.635196',\n",
       " 'updated_at': '2023-12-14T15:40:02.635212',\n",
       " 'experiments': [],\n",
       " 'pinned': False}"
      ]
     },
     "execution_count": 9,
     "metadata": {},
     "output_type": "execute_result"
    }
   ],
   "source": [
    "project"
   ]
  },
  {
   "cell_type": "markdown",
   "id": "f3354c8d",
   "metadata": {},
   "source": [
    "**Komentarz**:"
   ]
  },
  {
   "cell_type": "markdown",
   "id": "ca5c58fd",
   "metadata": {},
   "source": [
    "### 1.2 Usuwanie oraz tworzenie projektu po stronie aplikacji webowej\n",
    "\n",
    "Usuń wcześniej utworzony projekt po stronie aplikacji webowej oraz utwórz analogiczny projekt tym razem z aplikacji webowej."
   ]
  },
  {
   "cell_type": "markdown",
   "id": "a84ffd99",
   "metadata": {},
   "source": [
    "**Komentarz:**"
   ]
  },
  {
   "cell_type": "markdown",
   "id": "d9ca3be5",
   "metadata": {},
   "source": [
    "### 1.3 Tworzenie eksperymentu\n",
    "\n",
    "Po stronie biblioteki utwórzy przykładowy eksperyment o nazwie *Initial modeling*."
   ]
  },
  {
   "cell_type": "code",
   "execution_count": 12,
   "id": "468e5419",
   "metadata": {},
   "outputs": [],
   "source": [
    "from mlops.tracking import create_experiment"
   ]
  },
  {
   "cell_type": "code",
   "execution_count": 11,
   "id": "ab02ead7-0138-48cd-8f05-0554bb42e232",
   "metadata": {},
   "outputs": [],
   "source": [
    "id = \"657b16c7d660d369e83e6acd\"  # copied from web interface"
   ]
  },
  {
   "cell_type": "code",
   "execution_count": 13,
   "id": "d24bb760-8503-4b12-9f02-0488891accaf",
   "metadata": {},
   "outputs": [],
   "source": [
    "exp = create_experiment(\"Initial modeling\", project_id=id)"
   ]
  },
  {
   "cell_type": "code",
   "execution_count": 14,
   "id": "cb803fca-6182-4e1d-bd52-f3872ef731fb",
   "metadata": {},
   "outputs": [
    {
     "data": {
      "text/plain": [
       "{'id': '657b187bd660d369e83e6ace',\n",
       " 'project_id': '657b16c7d660d369e83e6acd',\n",
       " 'name': 'Initial modeling',\n",
       " 'description': None,\n",
       " 'created_at': '2023-12-14T16:00:11.077519',\n",
       " 'updated_at': '2023-12-14T16:00:11.077532',\n",
       " 'iterations': []}"
      ]
     },
     "execution_count": 14,
     "metadata": {},
     "output_type": "execute_result"
    }
   ],
   "source": [
    "exp"
   ]
  },
  {
   "cell_type": "markdown",
   "id": "25017783",
   "metadata": {},
   "source": [
    "**Komentarz:**"
   ]
  },
  {
   "cell_type": "markdown",
   "id": "0533b8ef",
   "metadata": {},
   "source": [
    "### 1.4 Ustawienie projektu oraz eksperymentu jako aktywne\n",
    "\n",
    "Ustaw uprzednio utworzony projekt oraz eksperyment jako aktywny projekt/aktywny eksperyment. <br> Dzięki temu, za każdym razem kiedy będziesz tworzył iteracje nie będziesz musiał się do nich odwoływać.\n",
    "\n",
    "**Hint:** `set_active_project()`, `set_active_experiment()`"
   ]
  },
  {
   "cell_type": "code",
   "execution_count": 18,
   "id": "024de691",
   "metadata": {},
   "outputs": [],
   "source": [
    "from mlops.tracking import get_project, set_active_project, set_active_experiment"
   ]
  },
  {
   "cell_type": "code",
   "execution_count": 19,
   "id": "4d3bad90-c3ac-44cd-9e4f-fa7112868fcf",
   "metadata": {},
   "outputs": [],
   "source": [
    "project = get_project(id)"
   ]
  },
  {
   "cell_type": "code",
   "execution_count": 21,
   "id": "c7d22fc6-c69a-4ed8-be6c-18cdf1e032ba",
   "metadata": {},
   "outputs": [
    {
     "data": {
      "text/plain": [
       "'Active project set to: 657b16c7d660d369e83e6acd'"
      ]
     },
     "execution_count": 21,
     "metadata": {},
     "output_type": "execute_result"
    }
   ],
   "source": [
    "set_active_project(project[\"_id\"])"
   ]
  },
  {
   "cell_type": "code",
   "execution_count": 23,
   "id": "a3342c49-4201-4246-b702-5e01b9314bbe",
   "metadata": {},
   "outputs": [
    {
     "data": {
      "text/plain": [
       "'Active experiment set to: 657b187bd660d369e83e6ace'"
      ]
     },
     "execution_count": 23,
     "metadata": {},
     "output_type": "execute_result"
    }
   ],
   "source": [
    "set_active_experiment(exp[\"id\"])"
   ]
  },
  {
   "cell_type": "markdown",
   "id": "90913ac9",
   "metadata": {},
   "source": [
    "**Komentarz:**"
   ]
  },
  {
   "cell_type": "markdown",
   "id": "bc941a45",
   "metadata": {},
   "source": [
    "### 1.5 Utworzenie datasetu\n",
    "\n",
    "Będziesz pracował na dobrze znanym zbiorze danych [Iris dataset]('https://raw.githubusercontent.com/TripathiAshutosh/dataset/main/iris.csv'). Utwórz dataset po stronie bilbioteki, podaj parametry takie jak link, tagi czy wersja. Alternatywnie, możesz go również stworzyć po stronie aplikacji webowej i zaciągnąć do biblioteki za pomocą odpowiedniej funkcji.\n",
    "\n",
    "**TODO: DODAĆ GET DATASTET /name/version PO STRONIE SERWERA/BIBLIOTEKI**"
   ]
  },
  {
   "cell_type": "code",
   "execution_count": 24,
   "id": "9aaebfae-3469-4ddc-96d0-c564336115d3",
   "metadata": {},
   "outputs": [],
   "source": [
    "from mlops.tracking import create_dataset"
   ]
  },
  {
   "cell_type": "code",
   "execution_count": 25,
   "id": "9122e397",
   "metadata": {},
   "outputs": [],
   "source": [
    "dataset = create_dataset(\n",
    "    dataset_name=\"Iris dataset\",\n",
    "    path_to_dataset=\"https://raw.githubusercontent.com/TripathiAshutosh/dataset/main/iris.csv\",\n",
    "    dataset_description=\"Famous Iris species dataset\",\n",
    "    tags=\"iris,classification,multiclass\",\n",
    "    version=\"1.0\"\n",
    ")"
   ]
  },
  {
   "cell_type": "code",
   "execution_count": 26,
   "id": "95eeb003-1865-48b0-be39-963f6c8e98f8",
   "metadata": {},
   "outputs": [
    {
     "data": {
      "text/plain": [
       "{'_id': '657b2567d660d369e83e6acf',\n",
       " 'dataset_name': 'Iris dataset',\n",
       " 'path_to_dataset': 'https://raw.githubusercontent.com/TripathiAshutosh/dataset/main/iris.csv',\n",
       " 'dataset_description': 'Famous Iris species dataset',\n",
       " 'tags': 'iris,classification,multiclass',\n",
       " 'archived': False,\n",
       " 'created_at': '2023-12-14T16:55:19.799985',\n",
       " 'updated_at': '2023-12-14T16:55:19.800135',\n",
       " 'version': '1.0',\n",
       " 'linked_iterations': {},\n",
       " 'pinned': False}"
      ]
     },
     "execution_count": 26,
     "metadata": {},
     "output_type": "execute_result"
    }
   ],
   "source": [
    "dataset"
   ]
  },
  {
   "cell_type": "markdown",
   "id": "38214258",
   "metadata": {},
   "source": [
    "**Komentarz:**"
   ]
  },
  {
   "cell_type": "markdown",
   "id": "6564b796",
   "metadata": {},
   "source": [
    "### 1.5 Utworzenie pierwszej iteracji\n",
    "\n",
    "Przygotuj dane treningowe do utworzenia pierwszej iteracji (pomocny może się okazać poniższy kod).\n",
    "```python\n",
    "import pandas as pd \n",
    "from sklearn.model_selection import train_test_split\n",
    "from sklearn.preprocessing import LabelEncoder\n",
    "\n",
    "url = 'https://raw.githubusercontent.com/TripathiAshutosh/dataset/main/iris.csv'\n",
    "df = pd.read_csv(filepath_or_buffer=url, sep=',')\n",
    "y = LabelEncoder().fit_transform(df['class'])\n",
    "X = df.drop(columns=['class'])\n",
    "X_train, X_test, y_train, y_test = train_test_split(X, y, test_size=0.5, stratify = y, random_state=42)\n",
    "```\n",
    "\n",
    "Następnie, wytrenuj model [LogisticRegression](http://scikit-learn.org/stable/modules/generated/sklearn.linear_model.LogisticRegression.html) z biblioteki scikit-learn. Zaloguj swoją pierwszą iteracje, logując informacje takie jak: \n",
    "- nazwa iteracji\n",
    "- parametry \n",
    "- metryki na zbiorze testowym (accuracy, precision, recall, f1)\n",
    "- odnośnik do datasetu\n",
    "\n",
    "**TODO: FIX log_model_name**"
   ]
  },
  {
   "cell_type": "code",
   "execution_count": 193,
   "id": "ba577150",
   "metadata": {},
   "outputs": [],
   "source": [
    "import os\n",
    "import pathlib\n",
    "import pickle\n",
    "from abc import abstractmethod\n",
    "\n",
    "import pandas as pd \n",
    "from sklearn.model_selection import train_test_split\n",
    "from sklearn.preprocessing import LabelEncoder\n",
    "from sklearn.linear_model import LogisticRegression\n",
    "from sklearn.metrics import accuracy_score, precision_score, recall_score, f1_score, ConfusionMatrixDisplay\n",
    "from mlops.tracking import start_iteration"
   ]
  },
  {
   "cell_type": "code",
   "execution_count": 220,
   "id": "52a810db-d9fe-41f7-9da7-6b9443ad62b5",
   "metadata": {},
   "outputs": [],
   "source": [
    "def load_mlops(dataset, **kwargs):\n",
    "    path = dataset[\"path_to_dataset\"]\n",
    "    return pd.read_csv(path, **kwargs)\n",
    "\n",
    "\n",
    "def iris_prep(dataset, test_size=0.5, target_col=\"class\", random_state=None, **pd_kwargs):\n",
    "    df = load_mlops(dataset, **pd_kwargs)\n",
    "    X = df.drop(columns=[target_col])\n",
    "    y = LabelEncoder().fit_transform(df[target_col])\n",
    "    X_train, X_test, y_train, y_test = train_test_split(X, y, test_size=test_size, stratify=y, random_state=random_state)\n",
    "    prep_dataset = {\n",
    "        \"train\": [X_train, y_train],\n",
    "        \"test\": [X_test, y_test]\n",
    "    }\n",
    "    return prep_dataset\n",
    "\n",
    "\n",
    "class IterationRun:\n",
    "    def __init__(self, dataset, prep, model_builder, model_params, model_path, mlops_iter, build_model=True):\n",
    "        self.dataset = dataset\n",
    "        self.prep = prep\n",
    "        self.model = model_builder(**model_params) if build_model else None\n",
    "        self.model_params = model_params\n",
    "        self.model_path = model_path\n",
    "        self.mlops_iter = mlops_iter\n",
    "        self.prep_dataset = None\n",
    "        self.metrics = None\n",
    "\n",
    "        self._touch_model_file()\n",
    "\n",
    "    def _got_valid_model_path(self):\n",
    "        return self.model_path != \"\" and self.model_path is not None and isinstance(self.model_path, str)\n",
    "\n",
    "    def _touch_model_file(self):\n",
    "        if self._got_valid_model_path():\n",
    "            path = pathlib.Path(self.model_path)\n",
    "            path.parent.mkdir(parents=True, exist_ok=True)\n",
    "            open(self.model_path, \"a\").close()\n",
    "    \n",
    "    @abstractmethod\n",
    "    def train_model(self):\n",
    "        return \n",
    "    \n",
    "    def preprocess(self):\n",
    "        self.prep_dataset = self.prep(self.dataset)\n",
    "\n",
    "    def evaluate(self, average=\"binary\"):\n",
    "        X = self.prep_dataset[\"test\"][0]\n",
    "        y_true = self.prep_dataset[\"test\"][1]\n",
    "        y_pred = self.model.predict(X)\n",
    "        test_metrics = {\n",
    "            \"accuracy\": accuracy_score(y_true, y_pred),\n",
    "            \"precision\": precision_score(y_true, y_pred, average=average),\n",
    "            \"recall\": recall_score(y_true, y_pred, average=average),\n",
    "            \"f1\": f1_score(y_true, y_pred, average=average)\n",
    "        }\n",
    "        self.metrics = test_metrics\n",
    "\n",
    "    def get_confusion_matrix_display(self, set=\"test\"):\n",
    "        X = self.prep_dataset[set][0]\n",
    "        y_true = self.prep_dataset[set][1]\n",
    "        y_pred = self.model.predict(X)\n",
    "        return ConfusionMatrixDisplay.from_predictions(y_true, y_pred)\n",
    "\n",
    "    def save_model(self):\n",
    "        with open(self.model_path, \"wb\") as f:\n",
    "            pickle.dump(self.model, f)\n",
    "\n",
    "    def log(self):\n",
    "        self.mlops_iter.log_parameters(parameters=self.model_params)\n",
    "        self.mlops_iter.log_metrics(metrics=self.metrics)\n",
    "        self.mlops_iter.log_dataset(dataset_id=self.dataset[\"_id\"])\n",
    "        # if self._got_valid_model_path():\n",
    "        #     self.mlops_iter.log_path_to_model(path_to_model=self.model_path)\n",
    "\n",
    "\n",
    "class ScikitIterationRun(IterationRun):\n",
    "    def train_model(self):\n",
    "        self.model.fit(*self.prep_dataset[\"train\"])\n"
   ]
  },
  {
   "cell_type": "code",
   "execution_count": 146,
   "id": "2910b52d-f30c-4e32-bcbe-f2cce4c02232",
   "metadata": {},
   "outputs": [],
   "source": [
    "model_builder = LogisticRegression\n",
    "model_params = {\"max_iter\": 500}\n",
    "model_path = \"\""
   ]
  },
  {
   "cell_type": "code",
   "execution_count": 149,
   "id": "3925f00f-b2f6-4830-aff6-d6ae416c02b3",
   "metadata": {},
   "outputs": [],
   "source": [
    "with start_iteration(iteration_name=\"Logit First Iteration\") as iteration:\n",
    "    run = ScikitIterationRun(dataset, iris_prep, model_builder, model_params, model_path, iteration)\n",
    "    run.preprocess()\n",
    "    run.train_model()\n",
    "    run.evaluate(average=\"micro\")\n",
    "    run.log()\n"
   ]
  },
  {
   "cell_type": "markdown",
   "id": "0a7b90f4",
   "metadata": {},
   "source": [
    "**Komentarz:**"
   ]
  },
  {
   "cell_type": "markdown",
   "id": "f1b9e42d",
   "metadata": {},
   "source": [
    "### 1.6 Iteracje modeli KNN\n",
    "\n",
    "Utwórz nowy eksperyment o nazwie *KNN models*. Wytrenuj 3-4 modele [KNN](http://scikit-learn.org/stable/modules/generated/sklearn.neighbors.KNeighborsClassifier.html) każdy z nieco różnymi parametrami. Porównaj wyniki iteracji/eksperymentów zaznaczając je i klikając przycisk compare po stronie aplikacji webowej.\n",
    "\n",
    "Dodatkowo, najlepszy z modeli zapisz lokalnie z wykorzystaniem biblioteki pickle oraz podczas logowania iteracji zaloguj jego ścieżkę (**ważne aby była to ścieżka absolutna, nie względna**).\n",
    "\n",
    "**TODO: FIX MLOPS-268**"
   ]
  },
  {
   "cell_type": "code",
   "execution_count": 119,
   "id": "a021e858-5fe2-45fc-9e49-699229a6c69b",
   "metadata": {},
   "outputs": [],
   "source": [
    "from sklearn.neighbors import KNeighborsClassifier"
   ]
  },
  {
   "cell_type": "code",
   "execution_count": 81,
   "id": "b9f33d9a-c5fc-4103-b2e5-9c1e22cd5553",
   "metadata": {},
   "outputs": [],
   "source": [
    "exp = create_experiment(\"KNN models\")"
   ]
  },
  {
   "cell_type": "code",
   "execution_count": 82,
   "id": "4fa0c06f-7b5a-4723-9a8a-976ab7c3535f",
   "metadata": {},
   "outputs": [
    {
     "data": {
      "text/plain": [
       "'Active experiment set to: 657b588ad660d369e83e6ad2'"
      ]
     },
     "execution_count": 82,
     "metadata": {},
     "output_type": "execute_result"
    }
   ],
   "source": [
    "set_active_experiment(exp[\"id\"])"
   ]
  },
  {
   "cell_type": "code",
   "execution_count": 205,
   "id": "4b65a528",
   "metadata": {},
   "outputs": [],
   "source": [
    "model_builder = KNeighborsClassifier\n",
    "model_params = {\"n_neighbors\": 3}\n",
    "\n",
    "abspath = os.path.abspath(os.getcwd())\n",
    "model_path_tmpl = os.path.join(abspath, \"models/experiment={experiment}/iteration={iteration}/model.pkl\")\n",
    "\n",
    "iter_param_sets = [\n",
    "    {\"name\": \"KNN iter 1\", \"model_params\": {\"n_neighbors\": 3}},\n",
    "    {\"name\": \"KNN iter 2\", \"model_params\": {\"n_neighbors\": 5}},\n",
    "    {\"name\": \"KNN iter 3\", \"model_params\": {\"n_neighbors\": 7}},\n",
    "    {\"name\": \"KNN iter 4\", \"model_params\": {\"n_neighbors\": 21}},\n",
    "]"
   ]
  },
  {
   "cell_type": "code",
   "execution_count": 206,
   "id": "10b1ffb1-e04a-4a80-b6e0-e8d4ff0b0ca4",
   "metadata": {},
   "outputs": [],
   "source": [
    "for iter_params in iter_param_sets:\n",
    "    with start_iteration(iteration_name=iter_params[\"name\"]) as iteration:\n",
    "        model_params = iter_params[\"model_params\"]\n",
    "        model_path = model_path_tmpl.format(experiment=iteration.experiment_id, iteration=iteration.iteration_name)\n",
    "        model_path = model_path.replace(\" \", \"_\")\n",
    "        \n",
    "        run = ScikitIterationRun(dataset, iris_prep, model_builder, model_params, model_path, iteration)\n",
    "        run.preprocess()\n",
    "        run.train_model()\n",
    "        run.evaluate(average=\"micro\")\n",
    "        run.save_model()\n",
    "        run.log()\n"
   ]
  },
  {
   "cell_type": "markdown",
   "id": "3e3845e9",
   "metadata": {},
   "source": [
    "**Komentarz:**\n",
    "Tutaj mam mały problem, bo przy logowaniu ścieżki biblioteka sprawdza, czy jest pod nią faktycznie plik. Tylko, że chyba jest tam jakiś bug, bo nawet, gdy plik istnieje, zgłaszany jest wyjątek `FileNotFoundError`.\n",
    "\n",
    "Nie wiem też, czy dobrze zrozumiałem tutaj zadanie, ale jeśli mam najpierw stworzyć iteracje, przejrzeć je w web appce i wybrać model, a dopiero potem zapisać i zalogować ścieżkę to widzę sprzeczność. Po zalogowaniu wszystkich porównywanych iteracji jestem już poza ich kontekstem (nawet dosłownie poza `context managerem`) więc nie mam jak ponownie dostać się do obiektu tej konkretnej iteracji, chyba że od początku użyję innej konstrukcji niż `context managera` (jednak tak widziałem, że najczęściej korzystacie z iteracji w przykładach).\n",
    "\n",
    "Ostatecznie zrobiłem tak, jak robię najczęściej, czyli logowałem po prostu każdy model."
   ]
  },
  {
   "cell_type": "markdown",
   "id": "6efe443d",
   "metadata": {},
   "source": [
    "### 1.7 Logowanie wykresu Pythonowego\n",
    "\n",
    "Utwórz osobny eksperyment o nazwie *Image charts*.\n",
    "Następnie, utwórz dwa dowolne wykresy wykorzystując bibliotekę seaborn lub matplotlib (może być to np. wykres dot. zależności między cechami / predykcji). Następnie zapisz wykresy na dysku do formatu .png / .jpg i zaloguj je podczas dowolnej iteracji z wykorzysteniem, któregoś z wcześniej utworzonych modeli."
   ]
  },
  {
   "cell_type": "code",
   "execution_count": 199,
   "id": "ed638f0e-089a-4aa0-90b2-161fc2679de9",
   "metadata": {},
   "outputs": [],
   "source": [
    "import matplotlib.pyplot as plt"
   ]
  },
  {
   "cell_type": "code",
   "execution_count": 180,
   "id": "ed19da81",
   "metadata": {},
   "outputs": [],
   "source": [
    "exp = create_experiment(\"Image charts\")"
   ]
  },
  {
   "cell_type": "code",
   "execution_count": 181,
   "id": "7c803bbf-a74d-4a2a-8e5c-78c5252d3efd",
   "metadata": {},
   "outputs": [
    {
     "data": {
      "text/plain": [
       "'Active experiment set to: 657b71dad660d369e83e6af3'"
      ]
     },
     "execution_count": 181,
     "metadata": {},
     "output_type": "execute_result"
    }
   ],
   "source": [
    "set_active_experiment(exp[\"id\"])"
   ]
  },
  {
   "cell_type": "code",
   "execution_count": 202,
   "id": "e1ebc3d3-4a2c-4d4e-8598-086048319f33",
   "metadata": {},
   "outputs": [],
   "source": [
    "def save_and_log_current_figure(path, mlops_iter):\n",
    "    img_name = path.split(\"/\")[-1].split(\".\")[0]\n",
    "    plt.savefig(path)\n",
    "    mlops_iter.log_image_chart(img_name, path)\n"
   ]
  },
  {
   "cell_type": "code",
   "execution_count": 207,
   "id": "daa0e65b-d52e-46cb-a710-e8166d1414a0",
   "metadata": {},
   "outputs": [],
   "source": [
    "model_builder = LogisticRegression\n",
    "model_params = {\"max_iter\": 200}\n",
    "model_path = \"\""
   ]
  },
  {
   "cell_type": "code",
   "execution_count": 208,
   "id": "e0429edd-2080-4d6c-a475-b17b41fb3d5d",
   "metadata": {},
   "outputs": [
    {
     "data": {
      "image/png": "[encoded data removed]",
      "text/plain": [
       "<Figure size 640x480 with 2 Axes>"
      ]
     },
     "metadata": {},
     "output_type": "display_data"
    },
    {
     "data": {
      "image/png": "[encoded data removed]",
      "text/plain": [
       "<Figure size 640x480 with 2 Axes>"
      ]
     },
     "metadata": {},
     "output_type": "display_data"
    }
   ],
   "source": [
    "with start_iteration(iteration_name=\"Logit with SHAP plot\") as iteration:\n",
    "    run = ScikitIterationRun(dataset, iris_prep, model_builder, model_params, model_path, iteration)\n",
    "    run.preprocess()\n",
    "    run.train_model()\n",
    "    run.evaluate(average=\"micro\")\n",
    "    run.log()\n",
    "\n",
    "    run.get_confusion_matrix_display(set=\"train\")\n",
    "    save_and_log_current_figure(\"plots/train_cm.png\", iteration)\n",
    "    \n",
    "    run.get_confusion_matrix_display(set=\"test\")\n",
    "    save_and_log_current_figure(\"plots/test_cm.png\", iteration)\n"
   ]
  },
  {
   "cell_type": "markdown",
   "id": "8c14c86a",
   "metadata": {},
   "source": [
    "**Komentarz:**"
   ]
  },
  {
   "cell_type": "markdown",
   "id": "43beddc1",
   "metadata": {},
   "source": [
    "### 1.8 Logowanie interaktywnych wykresów z danych (quite hard one, sorry://)"
   ]
  },
  {
   "cell_type": "markdown",
   "id": "8c6466bc",
   "metadata": {
    "ExecuteTime": {
     "end_time": "2023-11-26T15:16:31.693515Z",
     "start_time": "2023-11-26T15:16:31.662904Z"
    }
   },
   "source": [
    "Wytrenuj prostą sieć neuronową z wykorzystaniem bilbioteki [tensorflow](https://keras.io/) lub [pyTorch](https://pytorch.org/). Następnie zaloguj jak zmieniał się błąd modelu podczas końca każdej z epok na zbiorze treningowym / walidacyjnym. Dodaj 2-3 iteracje dla trenowanych sieci z różnymi hiperparametrami (tak żeby wyniki metryk na zbiorze testowym się różniły). **Podczas logowania iteracji zaloguj informacje o wcześniej zalogowanych błędach z epok z wykorzystaniem funkcji `log_chart`**.\n",
    "\n",
    "Po pomyślnym dodaniu iteracji, wyświetl wykresy na stronie webowej oraz porównaj iteracje między sobą za pomocą opcji compare.\n",
    "\n",
    "**Hint:**\n",
    "```python\n",
    "iteration.log_chart(\n",
    "        chart_name=..., chart_type=...,\n",
    "        x_data=...,\n",
    "        y_data=...,\n",
    "        y_data_names=...,\n",
    "        x_label=..., y_label=..., \n",
    "        chart_title=...,\n",
    "        comparable=True)\n",
    "```\n",
    "\n",
    "**Hint 2:**\n",
    "W razie dalszych problemów odsyłam do notebooka `library/tests/notebooks/mlops-ai-library-showcase.ipynb`, sekcja **Creating iterations with Interactive Charts**."
   ]
  },
  {
   "cell_type": "code",
   "execution_count": 214,
   "id": "cb2a3618-613a-4a42-8a47-b0abbcb76883",
   "metadata": {},
   "outputs": [],
   "source": [
    "import torch\n",
    "from torch.utils.data import DataLoader, TensorDataset"
   ]
  },
  {
   "cell_type": "code",
   "execution_count": 228,
   "id": "4ae1d743-142a-4f31-ab29-252edf9aed33",
   "metadata": {},
   "outputs": [],
   "source": [
    "exp = create_experiment(\"NN Experiment\")"
   ]
  },
  {
   "cell_type": "code",
   "execution_count": 229,
   "id": "662af6a5-f066-449f-bcd5-5cd8b8953a79",
   "metadata": {},
   "outputs": [
    {
     "data": {
      "text/plain": [
       "'Active experiment set to: 657b835dd660d369e83e6b02'"
      ]
     },
     "execution_count": 229,
     "metadata": {},
     "output_type": "execute_result"
    }
   ],
   "source": [
    "set_active_experiment(exp[\"id\"])"
   ]
  },
  {
   "cell_type": "code",
   "execution_count": 234,
   "id": "1a0f6582",
   "metadata": {},
   "outputs": [],
   "source": [
    "class NNModel(torch.nn.Module):\n",
    "    def __init__(self, input_shape: int, hidden_units: int, output_shape: int):\n",
    "        super().__init__()\n",
    "        self.layer_stack = nn.Sequential(\n",
    "            nn.Linear(in_features=input_shape, out_features=hidden_units),\n",
    "            nn.ReLU(),\n",
    "            nn.Linear(in_features=hidden_units, out_features=output_shape)\n",
    "        )\n",
    "    \n",
    "    def forward(self, x):\n",
    "        return self.layer_stack(x)\n",
    "    \n",
    "    def predict(self, df):\n",
    "        v = torch.tensor(df.values, dtype=torch.float32)\n",
    "        \n",
    "        self.eval()\n",
    "        with torch.inference_mode():\n",
    "            y_logits = self(v)\n",
    "            y_pred = torch.softmax(y_logits, dim=1).argmax(dim=1)\n",
    "        \n",
    "        return y_pred.tolist()\n",
    "\n",
    "\n",
    "class TorchIterationRun(IterationRun):\n",
    "    def train_model(self, epochs, batch_size=32, n_units=10, lr=0.01):\n",
    "        X_train = self.prep_dataset[\"train\"][0]\n",
    "        X_test = self.prep_dataset[\"test\"][0]\n",
    "\n",
    "        y_train = self.prep_dataset[\"train\"][1]\n",
    "        y_test = self.prep_dataset[\"test\"][1]\n",
    "\n",
    "        X_train_tensor = torch.tensor(X_train.values, dtype=torch.float32)\n",
    "        y_train_tensor = torch.tensor(y_train, dtype=torch.long)\n",
    "        \n",
    "        X_test_tensor = torch.tensor(X_test.values, dtype=torch.float32)\n",
    "        y_test_tensor = torch.tensor(y_test, dtype=torch.long)\n",
    "        \n",
    "        train_dataset = TensorDataset(X_train_tensor, y_train_tensor)\n",
    "        train_loader = DataLoader(train_dataset, batch_size=batch_size, shuffle=True)\n",
    "\n",
    "        test_dataset = TensorDataset(X_test_tensor, y_test_tensor)\n",
    "        test_loader = DataLoader(test_dataset, batch_size=batch_size)\n",
    "        \n",
    "        model = NNModel(\n",
    "            input_shape=X_train.shape[1],\n",
    "            hidden_units=n_units,\n",
    "            output_shape=pd.Series(y_train).nunique()\n",
    "        )\n",
    "\n",
    "        loss_fn = torch.nn.CrossEntropyLoss()\n",
    "        optimizer = torch.optim.Adam(params=model.parameters(), lr=lr)\n",
    "\n",
    "        train_losses, train_accs = [], []\n",
    "        val_losses, val_accs = [], []\n",
    "        \n",
    "        ## Training\n",
    "        for epoch in range(epochs):\n",
    "            \n",
    "            train_loss, train_acc = 0, 0\n",
    "            \n",
    "            for batch, (X, y) in enumerate(train_loader):\n",
    "                model.train() \n",
    "                y_pred = model(X)\n",
    "                \n",
    "                loss = loss_fn(y_pred, y)\n",
    "                train_loss += loss\n",
    "                train_acc += accuracy_score(torch.softmax(y_pred, dim=1).argmax(dim=1), y)\n",
    "                \n",
    "                optimizer.zero_grad()\n",
    "                loss.backward()\n",
    "                optimizer.step()\n",
    "    \n",
    "            train_loss /= len(train_loader)\n",
    "            train_acc /= len(train_loader)\n",
    "    \n",
    "            ## Validation\n",
    "            val_loss, val_acc = 0, 0 \n",
    "            model.eval()\n",
    "            with torch.inference_mode():\n",
    "                for X, y in test_loader:\n",
    "                    val_pred = model(X)\n",
    "                    val_loss += loss_fn(val_pred, y)\n",
    "                    val_acc += accuracy_score(torch.softmax(val_pred, dim=1).argmax(dim=1), y)\n",
    "    \n",
    "                val_loss /= len(test_loader)\n",
    "                val_acc /= len(test_loader)\n",
    "    \n",
    "            print(f\"Epoch: {epoch} | Train loss: {train_loss:.5f} | Train acc: {train_acc:.2f}% | Val loss: {val_loss:.5f}, Val acc: {val_acc:.2f}%\")\n",
    "            train_losses.append(round(train_loss.item(), 3))\n",
    "            train_accs.append(round(train_acc.item(), 3))\n",
    "            val_losses.append(round(val_loss.item(), 3))\n",
    "            val_accs.append(round(val_acc.item(), 3))\n",
    "\n",
    "        self.model = model\n",
    "        \n",
    "        return train_losses, train_accs, val_losses, val_accs\n"
   ]
  },
  {
   "cell_type": "code",
   "execution_count": 225,
   "id": "29321dca-f855-4ef0-813b-0790b416f12d",
   "metadata": {},
   "outputs": [],
   "source": [
    "model_builder = None\n",
    "model_params = dict()\n",
    "model_path = \"\""
   ]
  },
  {
   "cell_type": "code",
   "execution_count": 238,
   "id": "a039c2f1-4f0b-4c30-a2ca-0b639b32d9a6",
   "metadata": {},
   "outputs": [
    {
     "name": "stdout",
     "output_type": "stream",
     "text": [
      "Epoch: 0 | Train loss: 1.35199 | Train acc: 0.32% | Val loss: 1.14597, Val acc: 0.33%\n",
      "Epoch: 1 | Train loss: 1.11078 | Train acc: 0.52% | Val loss: 1.01979, Val acc: 0.68%\n",
      "Epoch: 2 | Train loss: 1.01410 | Train acc: 0.66% | Val loss: 0.96201, Val acc: 0.69%\n",
      "Epoch: 3 | Train loss: 0.96713 | Train acc: 0.62% | Val loss: 0.94441, Val acc: 0.69%\n",
      "Epoch: 4 | Train loss: 0.92736 | Train acc: 0.65% | Val loss: 0.92818, Val acc: 0.38%\n",
      "Epoch: 5 | Train loss: 0.91338 | Train acc: 0.38% | Val loss: 0.89984, Val acc: 0.39%\n",
      "Epoch: 6 | Train loss: 0.88932 | Train acc: 0.39% | Val loss: 0.85920, Val acc: 0.56%\n",
      "Epoch: 7 | Train loss: 0.84073 | Train acc: 0.73% | Val loss: 0.80424, Val acc: 0.86%\n",
      "Epoch: 8 | Train loss: 0.77944 | Train acc: 0.79% | Val loss: 0.75143, Val acc: 0.77%\n",
      "Epoch: 9 | Train loss: 0.75146 | Train acc: 0.66% | Val loss: 0.70695, Val acc: 0.73%\n",
      "Epoch: 10 | Train loss: 0.70679 | Train acc: 0.69% | Val loss: 0.66941, Val acc: 0.74%\n",
      "Epoch: 11 | Train loss: 0.64517 | Train acc: 0.71% | Val loss: 0.63070, Val acc: 0.73%\n",
      "Epoch: 12 | Train loss: 0.60961 | Train acc: 0.69% | Val loss: 0.59354, Val acc: 0.69%\n",
      "Epoch: 13 | Train loss: 0.59488 | Train acc: 0.67% | Val loss: 0.55989, Val acc: 0.74%\n",
      "Epoch: 14 | Train loss: 0.54446 | Train acc: 0.73% | Val loss: 0.52937, Val acc: 0.75%\n",
      "Epoch: 15 | Train loss: 0.54390 | Train acc: 0.70% | Val loss: 0.50278, Val acc: 0.78%\n",
      "Epoch: 16 | Train loss: 0.50262 | Train acc: 0.72% | Val loss: 0.47954, Val acc: 0.79%\n",
      "Epoch: 17 | Train loss: 0.49756 | Train acc: 0.77% | Val loss: 0.45865, Val acc: 0.84%\n",
      "Epoch: 18 | Train loss: 0.45935 | Train acc: 0.92% | Val loss: 0.44142, Val acc: 0.95%\n",
      "Epoch: 19 | Train loss: 0.42328 | Train acc: 0.99% | Val loss: 0.42586, Val acc: 0.97%\n",
      "Epoch: 20 | Train loss: 0.43412 | Train acc: 0.99% | Val loss: 0.41024, Val acc: 0.97%\n",
      "Epoch: 21 | Train loss: 0.40971 | Train acc: 0.99% | Val loss: 0.39592, Val acc: 0.97%\n",
      "Epoch: 22 | Train loss: 0.42279 | Train acc: 0.97% | Val loss: 0.38045, Val acc: 0.95%\n",
      "Epoch: 23 | Train loss: 0.37681 | Train acc: 0.99% | Val loss: 0.36840, Val acc: 0.96%\n",
      "Epoch: 24 | Train loss: 0.36981 | Train acc: 0.99% | Val loss: 0.35626, Val acc: 0.96%\n",
      "Epoch: 25 | Train loss: 0.35916 | Train acc: 0.99% | Val loss: 0.34511, Val acc: 0.95%\n",
      "Epoch: 26 | Train loss: 0.35707 | Train acc: 0.99% | Val loss: 0.33429, Val acc: 0.96%\n",
      "Epoch: 27 | Train loss: 0.33394 | Train acc: 0.99% | Val loss: 0.32566, Val acc: 0.98%\n",
      "Epoch: 28 | Train loss: 0.32640 | Train acc: 0.99% | Val loss: 0.31412, Val acc: 0.96%\n",
      "Epoch: 29 | Train loss: 0.31477 | Train acc: 0.99% | Val loss: 0.30432, Val acc: 0.96%\n"
     ]
    }
   ],
   "source": [
    "with start_iteration(iteration_name=\"NN v1 - 30 epochs\") as iteration:\n",
    "    run = TorchIterationRun(dataset, iris_prep, model_builder, model_params, model_path, iteration, build_model=False)\n",
    "    run.preprocess()\n",
    "    train_losses, train_accs, val_losses, val_accs = run.train_model(epochs=30)\n",
    "    run.evaluate(average=\"micro\")\n",
    "    run.log()\n",
    "\n",
    "    iteration.log_chart(\n",
    "        chart_name=\"Loss\", chart_type=\"line\",\n",
    "        x_data=[[i for i in range(len(train_losses))]],\n",
    "        y_data=[train_losses, val_losses],\n",
    "        y_data_names=['training loss', 'validation loss'],\n",
    "        x_label=\"epochs\", y_label=\"Loss\", \n",
    "        chart_title='Training vs validation loss',\n",
    "        comparable=True)\n",
    "    \n",
    "    iteration.log_chart(\n",
    "        chart_name=\"Accuracy\", chart_type=\"line\",\n",
    "        x_data=[[i for i in range(len(train_losses))]],\n",
    "        y_data=[train_accs, val_accs],\n",
    "        y_data_names=['training acc', 'validation acc'],\n",
    "        x_label=\"epochs\", y_label=\"Loss\", \n",
    "        chart_title='Training vs validation accuracy',\n",
    "        comparable=True)"
   ]
  },
  {
   "cell_type": "markdown",
   "id": "5e91856f",
   "metadata": {},
   "source": [
    "**Komentarz:**\n",
    "Z tego, co rozumiem na razie biblioteka nie oferuje takiej funkcji, ale byłoby bardzo przydatne gdyby tego typu wykresy można było budować \"kumulatywnie\" - np. w kontekście sieci w każdej epoce dodawać kolejne wartości funkcji celu do tego samego wykresu i w ten sposób budować wykres punkt po punkcie w trakcie trenowania. Dzięki temu dłuższe procedury można monitorować jeszcze przed zakończeniem, a dodatkowo w razie błędu mamy informacje jak szedł trening do momentu przerwania procedury."
   ]
  },
  {
   "cell_type": "markdown",
   "id": "11ef25ba",
   "metadata": {},
   "source": [
    "## 2. Moduł monitorowania"
   ]
  },
  {
   "cell_type": "markdown",
   "id": "27edfa45",
   "metadata": {},
   "source": [
    "### 2.1 Dodanie monitorowanego modelu\n",
    "\n",
    "Wybierz dowolną iteracje z modeli utworzonych z bilblioteki scikit-learn na zbiorze danych Iris, który ma poprawną ścieżkę do pickla na dysku. Następnie, wystaw iteracje na monitorowany model. (wszystko po stronie aplikacji webowej)"
   ]
  },
  {
   "cell_type": "markdown",
   "id": "ac71d16f",
   "metadata": {},
   "source": [
    "**Komentarz:**"
   ]
  },
  {
   "cell_type": "markdown",
   "id": "c1944d04",
   "metadata": {},
   "source": [
    "### 2.2 Predykcje dla monitorowanego modelu\n",
    "\n",
    "Wyślij predykcje na wystawiony monitorowany model (np. cały DataFrame X_test ze zbioru Iris) lub pojedyncze, samemu utworzone wiersze."
   ]
  },
  {
   "cell_type": "code",
   "execution_count": null,
   "id": "b7ab9aaa",
   "metadata": {},
   "outputs": [],
   "source": []
  },
  {
   "cell_type": "markdown",
   "id": "9ea8edee",
   "metadata": {},
   "source": [
    "**Komentarz:**"
   ]
  },
  {
   "cell_type": "markdown",
   "id": "e1d27bfb",
   "metadata": {},
   "source": [
    "### 2.3 Niepoprawne predykcje dla monitorowanego modelu\n",
    "\n",
    "**(Ćwiczenie kreatywne)** Postaraj się popsuć predykcje dla monitorowanego modelu wysyłając zapytania o predykcje w niepoprawnym formacie, z niepoprawnymi typami danych etc. Zbadaj czy biblioteka zwraca poprawne komunikaty dot. błędów."
   ]
  },
  {
   "cell_type": "code",
   "execution_count": null,
   "id": "78f12d8c",
   "metadata": {},
   "outputs": [],
   "source": []
  },
  {
   "cell_type": "markdown",
   "id": "19ba5aa0",
   "metadata": {},
   "source": [
    "**Komentarz:**"
   ]
  },
  {
   "cell_type": "markdown",
   "id": "2ec2011b",
   "metadata": {},
   "source": [
    "### (Opcjonalnie) 2.4 Dodanie monitorowanego modelu spoza biliboteki scikit-learn"
   ]
  },
  {
   "cell_type": "markdown",
   "id": "6607298f",
   "metadata": {},
   "source": [
    "Jeśli poprawnie wykonałeś zadanie 1.8, możesz wystawić jedną z wytrenowanych tam sieci neuronowych. Chodzi o to żeby model był spoza API scikit-learnowego i nie miał atrybutu `.predict()`. Następnie, skorzystaj z przykładowego wrappera, który znajduje się wew. `server/app/models/monitored_model_wrapper.py`, nadpisz go swoim kodem oraz zapisz pickla z tej klasy jako ścieżka do modelu iteracji. Dzięki temu wrapperowi twój customowy model będzie miał atrybut `.predict()` będzie mógł być poprawnie wystawiony do monitorowania."
   ]
  },
  {
   "cell_type": "code",
   "execution_count": null,
   "id": "f915e712",
   "metadata": {},
   "outputs": [],
   "source": []
  },
  {
   "cell_type": "markdown",
   "id": "023b5542",
   "metadata": {},
   "source": [
    "**Komentarz:**"
   ]
  },
  {
   "cell_type": "markdown",
   "id": "378b818b",
   "metadata": {},
   "source": [
    "## 3. Alerty mailowe"
   ]
  },
  {
   "cell_type": "markdown",
   "id": "4a09562b",
   "metadata": {},
   "source": [
    "### (Opcjonalnie) 3.1 Załóż konto na platformie [Mailgun](https://www.mailgun.com/).\n",
    "\n",
    "W celu poprawnego skonfigurowania modułu dot. wysyłania altertów mailowych założ konto na platformie [Mailgun](https://www.mailgun.com/) w celu poprawnego skonfigurowania API keya oraz nazwy domeny (patrz `library/tests/notebooks/06-email-alerts.ipynb`). Jeśli jednak nie chcesz tworzyć swojego konta, skontaktuj się z nami i podaj nam swój adres e-mail, a my podamy Ci nasz klucz API i nazwę domeny. :)"
   ]
  },
  {
   "cell_type": "code",
   "execution_count": null,
   "id": "7d207fde",
   "metadata": {},
   "outputs": [],
   "source": []
  },
  {
   "cell_type": "markdown",
   "id": "7eb89cd6",
   "metadata": {},
   "source": [
    "**Komentarz:**"
   ]
  },
  {
   "cell_type": "markdown",
   "id": "2ff8b198",
   "metadata": {},
   "source": [
    "### 3.2 Alert e-mail w przypadku dodania (nie)prawidłowej iteracji.\n",
    "\n",
    "Dodaj dowolną iteracje (możesz wykorzystać jakąś z utworzonych wcześniej), tym razem jednak ustaw opcję dot. wysyłania e-maili na `True`. Dodaj dwa typy iteracji, jedną prawidłową i drugą nieprawidłową, tak aby otrzymać oba komunikaty błędów."
   ]
  },
  {
   "cell_type": "code",
   "execution_count": null,
   "id": "fb99a542",
   "metadata": {},
   "outputs": [],
   "source": []
  },
  {
   "cell_type": "markdown",
   "id": "0ac9492e",
   "metadata": {},
   "source": [
    "**Komentarz:**"
   ]
  },
  {
   "cell_type": "markdown",
   "id": "984ddf58",
   "metadata": {},
   "source": [
    "### 3.3 Alert e-mail w przypadku (nie)poprawnych predykcji monitorowanego modelu.\n",
    "\n",
    "Podobnie jak wyżej, tym razem jednak alerty mailowe dot. wysyłania predykcji na monitorowany model. Dla poprawnej oraz niepoprawnej predykcji, tak aby otrzymać oba komunikaty błędów."
   ]
  },
  {
   "cell_type": "code",
   "execution_count": null,
   "id": "e751c517",
   "metadata": {},
   "outputs": [],
   "source": []
  },
  {
   "cell_type": "markdown",
   "id": "9adec7d5",
   "metadata": {},
   "source": [
    "**Komentarz:**"
   ]
  },
  {
   "cell_type": "markdown",
   "id": "191ed157",
   "metadata": {},
   "source": [
    "## Ogólne uwagi"
   ]
  },
  {
   "cell_type": "markdown",
   "id": "17fd40cd-4156-4450-a144-19ea5dd57ce2",
   "metadata": {},
   "source": [
    " - `json2html` 👈 tej biblioteki nie było po zainstalowaniu `mlops-ai` i poleciał error przy pierwszym imporcie\n",
    " - w słownikach zwracanych przez funkcje widziałbym klucz `id` zamiast `_id` dla spójności (ewentualnie w drugą stronę, ale bez `_` się wydaje ładniej)\n",
    " - dosyć ciężko się czyta docsy na github wiki przy obecnym formatowaniu, ale zdaje się, że już pracujecie nad innym formatem\n",
    " - \\[już nie koniecznie TODO, ale 'nice to have'\\] na początku myślałem, że web się będzie odświeżał sam wraz ze zmianami z poziomu biblioteki (np. że utworzony w notebooku projekt od razu pojawi się na liście na stronie), ale zorientowałem się, że trzeba odświeżyć w przeglądarce żeby wczytać zmiany."
   ]
  },
  {
   "cell_type": "code",
   "execution_count": null,
   "id": "1eef486f-7037-4814-96f2-c0ac82e3c786",
   "metadata": {},
   "outputs": [],
   "source": []
  }
 ],
 "metadata": {
  "kernelspec": {
   "display_name": "Python 3 (ipykernel)",
   "language": "python",
   "name": "python3"
  },
  "language_info": {
   "codemirror_mode": {
    "name": "ipython",
    "version": 3
   },
   "file_extension": ".py",
   "mimetype": "text/x-python",
   "name": "python",
   "nbconvert_exporter": "python",
   "pygments_lexer": "ipython3",
   "version": "3.9.13"
  },
  "toc": {
   "base_numbering": 1,
   "nav_menu": {},
   "number_sections": false,
   "sideBar": true,
   "skip_h1_title": false,
   "title_cell": "Table of Contents",
   "title_sidebar": "Contents",
   "toc_cell": false,
   "toc_position": {},
   "toc_section_display": true,
   "toc_window_display": true
  }
 },
 "nbformat": 4,
 "nbformat_minor": 5
}
